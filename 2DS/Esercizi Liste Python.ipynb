{
 "cells": [
  {
   "cell_type": "markdown",
   "metadata": {},
   "source": [
    "# Introduzione a Python\n",
    "\n",
    "Questo tutorial è basato sulle seguenti fonti: \n",
    "* [1](https://docs.python.org/3/tutorial/introduction.html) Documentazione di Python\n",
    "* [2](https://www.youtube.com/channel/UCxX9wt5FWQUAAz4UrysqK9A) CS Dojo\n",
    "\n",
    "Nota: sarebbe carino mettere le list comprehension!"
   ]
  },
  {
   "cell_type": "markdown",
   "metadata": {},
   "source": [
    "## Variabili in Python\n",
    "Per stampare in python si usa semplicemente print"
   ]
  },
  {
   "cell_type": "code",
   "execution_count": 1,
   "metadata": {},
   "outputs": [
    {
     "name": "stdout",
     "output_type": "stream",
     "text": [
      "Hello World\n"
     ]
    }
   ],
   "source": [
    "print(\"Hello World\")"
   ]
  },
  {
   "cell_type": "code",
   "execution_count": 2,
   "metadata": {},
   "outputs": [
    {
     "name": "stdout",
     "output_type": "stream",
     "text": [
      "Hello\n"
     ]
    }
   ],
   "source": [
    "print('Hello')"
   ]
  },
  {
   "cell_type": "code",
   "execution_count": 3,
   "metadata": {},
   "outputs": [
    {
     "name": "stdout",
     "output_type": "stream",
     "text": [
      "3\n"
     ]
    }
   ],
   "source": [
    "print(3)"
   ]
  },
  {
   "cell_type": "markdown",
   "metadata": {},
   "source": [
    "In python le **variabili** vengono dichiarate ed istanziate nella stessa riga senza bisogno di specificare il tipo.\n",
    "Il segno = è usato per assegnare un valore ad una variabile."
   ]
  },
  {
   "cell_type": "code",
   "execution_count": 4,
   "metadata": {},
   "outputs": [
    {
     "name": "stdout",
     "output_type": "stream",
     "text": [
      "1\n"
     ]
    }
   ],
   "source": [
    "a = 1\n",
    "print (a)"
   ]
  },
  {
   "cell_type": "code",
   "execution_count": 5,
   "metadata": {},
   "outputs": [
    {
     "name": "stdout",
     "output_type": "stream",
     "text": [
      "1\n",
      "1\n"
     ]
    }
   ],
   "source": [
    "b = a\n",
    "print(a)\n",
    "print(b)"
   ]
  },
  {
   "cell_type": "markdown",
   "metadata": {},
   "source": [
    "Python può essere usato come calcolatrice. I numeri interi hanno tipo **int** (esempio: 2, 4, 20) mentre le frazioni ritornano sempre un tipo **float** (esempio: 5.0, 1.6).\n",
    "\n",
    "Se vogliamo come risultato di una frazione un numero senza virgola (non vogliamo 5.0 ma solo 5) usiamo l'operatore //. \n",
    "\n",
    "Se vogliamo calcolare il resto di una divisione usiamo l'operatore %.\n",
    "\n",
    "Per elevare a potenza usiamo l'operatore **.\n",
    "\n",
    "Se vogliamo arrotondare una variabile float usiamo round(variabile, cifre volute dopo la virgola)"
   ]
  },
  {
   "cell_type": "code",
   "execution_count": 6,
   "metadata": {},
   "outputs": [
    {
     "data": {
      "text/plain": [
       "4"
      ]
     },
     "execution_count": 6,
     "metadata": {},
     "output_type": "execute_result"
    }
   ],
   "source": [
    "2+2"
   ]
  },
  {
   "cell_type": "code",
   "execution_count": 7,
   "metadata": {},
   "outputs": [
    {
     "data": {
      "text/plain": [
       "1.6"
      ]
     },
     "execution_count": 7,
     "metadata": {},
     "output_type": "execute_result"
    }
   ],
   "source": [
    "8 / 5"
   ]
  },
  {
   "cell_type": "code",
   "execution_count": 8,
   "metadata": {},
   "outputs": [
    {
     "data": {
      "text/plain": [
       "9"
      ]
     },
     "execution_count": 8,
     "metadata": {},
     "output_type": "execute_result"
    }
   ],
   "source": [
    "# 3 elevato al quadrato\n",
    "3 ** 2"
   ]
  },
  {
   "cell_type": "code",
   "execution_count": 9,
   "metadata": {},
   "outputs": [
    {
     "data": {
      "text/plain": [
       "1"
      ]
     },
     "execution_count": 9,
     "metadata": {},
     "output_type": "execute_result"
    }
   ],
   "source": [
    "5 % 2"
   ]
  },
  {
   "cell_type": "code",
   "execution_count": 10,
   "metadata": {},
   "outputs": [
    {
     "data": {
      "text/plain": [
       "12.25"
      ]
     },
     "execution_count": 10,
     "metadata": {},
     "output_type": "execute_result"
    }
   ],
   "source": [
    "numero_non_arrotondato = 12.2525\n",
    "numero_arrotondato = round(numero_non_arrotondato, 2)\n",
    "numero_arrotondato"
   ]
  },
  {
   "cell_type": "code",
   "execution_count": 11,
   "metadata": {},
   "outputs": [
    {
     "data": {
      "text/plain": [
       "20"
      ]
     },
     "execution_count": 11,
     "metadata": {},
     "output_type": "execute_result"
    }
   ],
   "source": [
    "altezza = 5\n",
    "larghezza = 4\n",
    "altezza * larghezza"
   ]
  },
  {
   "cell_type": "code",
   "execution_count": 12,
   "metadata": {},
   "outputs": [
    {
     "data": {
      "text/plain": [
       "25.0"
      ]
     },
     "execution_count": 12,
     "metadata": {},
     "output_type": "execute_result"
    }
   ],
   "source": [
    "prezzo = 12.5\n",
    "numero_articoli = 2\n",
    "prezzo_totale = prezzo * numero_articoli\n",
    "prezzo_totale"
   ]
  },
  {
   "cell_type": "code",
   "execution_count": 13,
   "metadata": {},
   "outputs": [
    {
     "data": {
      "text/plain": [
       "float"
      ]
     },
     "execution_count": 13,
     "metadata": {},
     "output_type": "execute_result"
    }
   ],
   "source": [
    "type(prezzo)"
   ]
  },
  {
   "cell_type": "code",
   "execution_count": 14,
   "metadata": {},
   "outputs": [
    {
     "data": {
      "text/plain": [
       "int"
      ]
     },
     "execution_count": 14,
     "metadata": {},
     "output_type": "execute_result"
    }
   ],
   "source": [
    "type(altezza)"
   ]
  },
  {
   "cell_type": "markdown",
   "metadata": {},
   "source": [
    "Le **stringhe** possono essere racchiuse sia tra doppi apici che singoli apici (\\\" \\\" oppure \\' \\'). Per mettere l'apostrofo in una stringa basta usare \\ prima dell'apice.\n",
    "Per stampare si può usare la funzione print(cosa da stampare) e per mandare a capo una stringa si usa \\n.\n",
    "\n",
    "Esempio:\n",
    "```python\n",
    "#nome = anna # dà errore\n",
    "nome = \"anna\"\n",
    "cognome = 'rossi'\n",
    "frase = \"l\\'apice\" # oppure frase = \"l'apice\"\n",
    "print(\"Il nome è\\n\", nome, \"\\n\", cognome)\n",
    "```\n",
    "output:\n",
    "\n",
    "Il nome è\n",
    " \n",
    " anna \n",
    " \n",
    " rossi\n",
    " \n",
    " \n",
    "Le **stringhe** sono trattate come array di caratteri. Posso stampare il carattere in posizione 0 scrivendo: \n",
    "```python\n",
    "stringa[0]\n",
    "```\n",
    "\n",
    "Posso anche stampare l'ultimo carattere scrivendo: \n",
    "```python\n",
    "stringa[-1]\n",
    "```\n",
    "\n",
    "Il penultimo carattere: \n",
    "```python\n",
    "stringa[-2]. \n",
    "```\n",
    "\n",
    "Le posizioni della stringa Python sono le seguenti:\n",
    "\n",
    "| P  | y  | t  | h  | o  | n  |\n",
    "|----|----|----|----|----|----|\n",
    "| 0  | 1  | 2  | 3  | 4  | 5  |\n",
    "| -6 | -5 | -4 | -3 | -2 | -1 |\n",
    "\n",
    "Usare un indice che non esiste produrrà un errore: \n",
    "```python\n",
    "stringa = \"Python\"  \n",
    "stringa[7]\n",
    "```\n",
    "non funzionerà perchè la parola ha solo 6 caratteri, output: string index out of range.\n",
    "\n",
    "Esiste anche l'operatore di slicing **:** che permette di stampare la stringa da un carattere ad un altro: stringa\\[dal carattere : al carattere\\]. \n",
    "Il primo carattere è incluso e l'ultimo è escluso. \n",
    "Per esempio:\n",
    "```python\n",
    "stringa[0:2] \n",
    "```\n",
    "stampa le prime due lettere della stringa \"Python\".\n",
    "\n",
    "Altri esempi:\n",
    "```python\n",
    "nome = \"anna\"\n",
    "print(\"primo carattere: \", nome[0], \", penultimo carattere: \", nome[-2])\n",
    "```\n",
    "output: primo carattere:  a , penultimo carattere:  n\n",
    "\n",
    "\n",
    "```python\n",
    "nome[0:3] # è uguale a scrivere nome[:3] ossia dall'inizio a 3\n",
    "```\n",
    "output: 'ann'\n",
    "\n",
    "\n",
    "```python\n",
    "nome[2:4] # è uguale a scrivere nome[2:] \n",
    "            # ossia dalla posizione 2 alla fine\n",
    "```\n",
    "output: 'na'"
   ]
  },
  {
   "cell_type": "markdown",
   "metadata": {},
   "source": [
    "#### Esercizio\n",
    "Scambiare due variabili"
   ]
  },
  {
   "cell_type": "code",
   "execution_count": null,
   "metadata": {},
   "outputs": [],
   "source": []
  },
  {
   "cell_type": "markdown",
   "metadata": {},
   "source": [
    "#### Esercizio\n",
    "Salvare nella variabile cards il numero di carte, nella variabile aces il numero di assi e calcolare la probabilità di estrarre un asso."
   ]
  },
  {
   "cell_type": "code",
   "execution_count": null,
   "metadata": {},
   "outputs": [],
   "source": []
  },
  {
   "cell_type": "markdown",
   "metadata": {},
   "source": [
    "## If else statement\n",
    "\n",
    "#### Operatori logici\n",
    "Gli operatori logici in python sono definiti come: **and**, **or** e **not**\n"
   ]
  },
  {
   "cell_type": "code",
   "execution_count": 18,
   "metadata": {},
   "outputs": [
    {
     "name": "stdout",
     "output_type": "stream",
     "text": [
      "a is less than b\n",
      "Not sure if a is less than b\n"
     ]
    }
   ],
   "source": [
    "a = 1\n",
    "b = 2\n",
    "if a < b:\n",
    "    print(\"a is less than b\")\n",
    "print (\"Not sure if a is less than b\")"
   ]
  },
  {
   "cell_type": "code",
   "execution_count": 19,
   "metadata": {},
   "outputs": [
    {
     "name": "stdout",
     "output_type": "stream",
     "text": [
      "c is not less than d\n",
      "outside the if block\n"
     ]
    }
   ],
   "source": [
    "c = 5\n",
    "d = 4\n",
    "if c < d:\n",
    "    print(\"c is less than d\")\n",
    "else:\n",
    "    print(\"c is not less than d\")\n",
    "print(\"outside the if block\")"
   ]
  },
  {
   "cell_type": "code",
   "execution_count": 20,
   "metadata": {},
   "outputs": [
    {
     "name": "stdout",
     "output_type": "stream",
     "text": [
      "e is greater than f by more than 10\n"
     ]
    }
   ],
   "source": [
    "e = 18\n",
    "f = 5\n",
    "if e < f:\n",
    "    print(\"e is less than f\")\n",
    "elif e == f:\n",
    "    print(\"e is equal to f\")\n",
    "elif e > f + 10:\n",
    "    print(\"e is greater than f by more than 10\")\n",
    "else:\n",
    "    print(\"e is greater than f\")"
   ]
  },
  {
   "cell_type": "code",
   "execution_count": 21,
   "metadata": {},
   "outputs": [
    {
     "name": "stdout",
     "output_type": "stream",
     "text": [
      "g is equal to h\n"
     ]
    }
   ],
   "source": [
    "g = 5\n",
    "h = 5\n",
    "if g < h:\n",
    "    print(\"g is less than h\")\n",
    "else:\n",
    "    if g == h:\n",
    "        print(\"g is equal to h\")\n",
    "    else:\n",
    "        print(\"g is greater than h\")"
   ]
  },
  {
   "cell_type": "markdown",
   "metadata": {},
   "source": [
    "#### Esercizio\n",
    "Stabilire se un numero è divisibile per 3 o per 5 o per entrambi"
   ]
  },
  {
   "cell_type": "code",
   "execution_count": null,
   "metadata": {},
   "outputs": [],
   "source": []
  },
  {
   "cell_type": "markdown",
   "metadata": {},
   "source": [
    "## Funzioni\n",
    "In python c'è una classe chiamata function e definendo una funzione stiamo istanziando questa classe. Esattamente come una variabile intera è un'istanza della classe integer.\n",
    "\n",
    "Puoi pensare ad una funzione nello stesso modo in cui pensi ad una variabile, l'unica differenza è che una variabile contiene un dato mentre una funzione contiene codice.\n",
    "\n",
    "Esempi:\n",
    "\n",
    "```python\n",
    "# this is the way to do comments\n",
    "# def as define\n",
    "def function_name():\n",
    "    print(\"inside the function\")\n",
    "print(\"outside the function\")\n",
    "```\n",
    "output: outside the function\n",
    "\n",
    "```python\n",
    "function_name()\n",
    "```\n",
    "output: inside the function\n",
    "\n",
    "\n",
    "\n",
    "\n",
    "```python\n",
    "type(function_name)\n",
    "```\n",
    "output: function\n",
    "\n",
    "\n",
    "\n",
    "\n",
    "Un altro esempio:\n",
    "```python\n",
    "def quadrato(x):\n",
    "    return x ** 2\n",
    "```\n",
    "\n",
    "\n",
    "\n",
    "\n",
    "Una funzione può anche essere passata come argomento ad un'altra funzione.\n",
    "\n",
    "In Python esistono delle funzioni che sono sempre disponibili chiamate **built-in functions**. All'inizio del tutorial abbiamo usato la funzone <code>type()</code> che prede come argomento un oggetto e ritorna il suo tipo. Altre funzioni che useremo sono: <code>len()</code>, <code>range()</code>, <code>filter</code>, <code>max()</code>, <code>min()</code>, <code>print()</code>, <code>reversed()</code>, <code>sum()</code>, <code>sorted()</code>\n",
    "\n",
    "Per maggiori informazioni sulle built-in functions vedi il link: \n",
    "* [4](https://docs.python.org/3/library/functions.html#type) Documentazione python"
   ]
  },
  {
   "cell_type": "markdown",
   "metadata": {},
   "source": [
    "#### Esercizio\n",
    "Definire una funzione che raddoppia un valore in input"
   ]
  },
  {
   "cell_type": "code",
   "execution_count": null,
   "metadata": {},
   "outputs": [],
   "source": []
  },
  {
   "cell_type": "markdown",
   "metadata": {},
   "source": [
    "#### Esercizio\n",
    "Definire una funzione che somma due numeri"
   ]
  },
  {
   "cell_type": "code",
   "execution_count": null,
   "metadata": {},
   "outputs": [],
   "source": []
  },
  {
   "cell_type": "markdown",
   "metadata": {},
   "source": [
    "#### Esercizio\n",
    "Definire una funzione che eleva al quadrato"
   ]
  },
  {
   "cell_type": "code",
   "execution_count": null,
   "metadata": {},
   "outputs": [],
   "source": []
  },
  {
   "cell_type": "markdown",
   "metadata": {},
   "source": [
    "#### Esercizio\n",
    "\n",
    "Creare una funzione che prende come argomenti: eventi possibili ed eventi favorevoli e ritorna la probabilità.\n",
    "Usa la funzione per calcolare la probabilità di estrarre un re da un mazzo di 52 carte. \n",
    "Usa la funzione anche per calcolare la probabilita di estrarre una faccia da un mazzo di 52 carte.\n",
    "\n",
    "Per gli interessati si consiglia questo link: \n",
    "* [3](https://www.datacamp.com/community/tutorials/statistics-python-tutorial-probability-1) python in statistica"
   ]
  },
  {
   "cell_type": "code",
   "execution_count": null,
   "metadata": {},
   "outputs": [],
   "source": []
  },
  {
   "cell_type": "markdown",
   "metadata": {},
   "source": [
    "#### Esercizio\n",
    "\n",
    "Convertire le miglia in chilometri: km = 1.6 x miglia"
   ]
  },
  {
   "cell_type": "code",
   "execution_count": null,
   "metadata": {},
   "outputs": [],
   "source": []
  },
  {
   "cell_type": "markdown",
   "metadata": {},
   "source": [
    "#### Esercizio\n",
    "Scrivi una funzione per controllare se una parola è contenuta in una frase, puoi usare la keyword <code>in</code>. Vedi la sezione Liste per maggiori informazioni."
   ]
  },
  {
   "cell_type": "code",
   "execution_count": null,
   "metadata": {},
   "outputs": [],
   "source": []
  },
  {
   "cell_type": "markdown",
   "metadata": {},
   "source": [
    "## Liste\n",
    "\n",
    "Una lista è un tipo di dato che contiene elementi ordinati da un indice, il quale identifica un elemento con precisione.  La lista è un oggetto che può contenere altri oggetti anche di tipo diverso: per esempio stringhe, interi o anche altre liste.\n",
    "\n",
    "Viene dichiarata usando parentesi quadrate: <code> L = [] </code>. Può essere inizializzata aggiungendo elementi all'interno delle parentesi quadrate e separandoli con una virgola: \n",
    "\n",
    "```python\n",
    "L = [\"primo\", 2]\n",
    "``` \n",
    "\n",
    "Si può accedere ad ogni elemento usando l'indice: <code> L[0] </code> e usando anche l'operatore di **slice**.\n",
    "\n",
    "Per iterare sugli elementi della lista basta usare un ciclo: \n",
    "\n",
    "```python\n",
    "for elemento in L: \n",
    "    print(elemento)\n",
    "```    \n",
    "Per capire se un elemento è presente o meno nella lista si usano gli operatori **in** oppure **not in**: \n",
    "\n",
    "```python\n",
    "if \"primo\" in L: \n",
    "    print(\"presente\")\n",
    "    \n",
    "    \n",
    "if \"secondo\" not in L: \n",
    "    print(\"assente\")\n",
    "    \n",
    "```\n",
    "    \n",
    "\n",
    "Una lista cosiccome un set, a differenza di una tupla o di una stringa, è mutabile. Questo vuol dire che è permesso sia l'accesso che la modifica di un elemento.  \n",
    "\n",
    "Una stringa invece è un tipo immutabile perchè è consentito solo l'accesso ad un elemento della stringa ma non la sua modifica. Per modificare una stringa si è costretti a ri-assegnare alla variabile una nuova stringa.\n",
    "\n",
    "Per maggiori informazioni controllate questi link: \n",
    "* [3](https://medium.com/@meghamohan/mutable-and-immutable-side-of-python-c2145cf72747) Mutable and Immutable side of Python\n",
    "* [4](https://www.afternerd.com/blog/difference-between-list-tuple/) Differenza tra tuple e liste\n",
    "\n",
    "Una lista può essere usata come stack (lifo):\n",
    "\n",
    "```python\n",
    "stack = [1, 2, 3]\n",
    "stack.append(4)\n",
    "```\n",
    "stack: [1, 2, 3, 4]\n",
    "\n",
    "```python\n",
    "stack.pop()    \n",
    "```\n",
    "stack: [1, 2, 3]\n",
    "output: 4\n",
    "\n",
    "\n",
    "Posso anche estendere una lista con un'altra lista in questi modi:\n",
    "```python\n",
    "# modo 1: con operatore +\n",
    "[1, 2] + [3, 4]  \n",
    "# modo 2: con il metodo extend di list \n",
    "a = [1, 2]\n",
    "a.extend([3, 4]) \n",
    "a\n",
    "# modo 3: con la built-in function sum\n",
    "(sum([[1,2],[3,4]],[]))\n",
    "```\n"
   ]
  },
  {
   "cell_type": "code",
   "execution_count": 97,
   "metadata": {},
   "outputs": [],
   "source": [
    "lista_vuota = []"
   ]
  },
  {
   "cell_type": "code",
   "execution_count": 96,
   "metadata": {},
   "outputs": [
    {
     "name": "stdout",
     "output_type": "stream",
     "text": [
      "3\n",
      "[3, 10, -1]\n",
      "3\n",
      "[10, -1]\n",
      "[3, 10, -1, 10]\n",
      "[3, 10, -1, 10, 'Andre']\n",
      "[3, 10, -1, 10]\n"
     ]
    }
   ],
   "source": [
    "lista = [3, 10, -1]\n",
    "print(len(lista))\n",
    "print(lista)\n",
    "print(lista[0])\n",
    "print(lista[1:3])\n",
    "lista.append(10)\n",
    "print(lista)\n",
    "lista.append(\"Andre\")\n",
    "print(lista)\n",
    "lista.pop()\n",
    "print(lista)"
   ]
  },
  {
   "cell_type": "markdown",
   "metadata": {},
   "source": [
    "#### Esercizio\n",
    "Scambia il primo e il secondo elemento di b = [\"banana\", \"apple\", \"microsoft\"]"
   ]
  },
  {
   "cell_type": "code",
   "execution_count": null,
   "metadata": {},
   "outputs": [],
   "source": []
  },
  {
   "cell_type": "markdown",
   "metadata": {},
   "source": [
    "#### Esercizio\n",
    "Tutte le possibili combinazioni di due elementi senza ripetizione di 1,2,3. Output desiderato: [(1, 2), (1, 3), (2, 1), (2, 3), (3, 1), (3, 2)]\n"
   ]
  },
  {
   "cell_type": "code",
   "execution_count": null,
   "metadata": {},
   "outputs": [],
   "source": []
  },
  {
   "cell_type": "markdown",
   "metadata": {},
   "source": [
    "#### Esercizio\n",
    "Tutte le possibili combinazioni di due elementi senza ripetizione dei caratteri [\"A\", \"B\", \"C\"], output desiderato: [('A', 'B'), ('A', 'C'), ('B', 'A'), ('B', 'C'), ('C', 'A'), ('C', 'B')]"
   ]
  },
  {
   "cell_type": "code",
   "execution_count": null,
   "metadata": {},
   "outputs": [],
   "source": []
  },
  {
   "cell_type": "markdown",
   "metadata": {},
   "source": [
    "#### Esercizio\n",
    "\n",
    "Moltiplicare tutti i numeri di una lista"
   ]
  },
  {
   "cell_type": "code",
   "execution_count": null,
   "metadata": {},
   "outputs": [],
   "source": []
  },
  {
   "cell_type": "markdown",
   "metadata": {},
   "source": [
    "#### Esercizio\n",
    "\n",
    "Crea una funzione che prende in input una lista e un elemento da aggiungere e aggiunge un elemento alla lista."
   ]
  },
  {
   "cell_type": "code",
   "execution_count": null,
   "metadata": {},
   "outputs": [],
   "source": []
  },
  {
   "cell_type": "markdown",
   "metadata": {},
   "source": [
    "#### Esercizio\n",
    "\n",
    "Crea una funzione che prende in input una lista e un elemento da aggiungere e ritorna la lista con l'elemento aggiunto, senza modificare la lista in input.\n",
    "\n",
    "##### Aiuto: cosa succede in questo codice?\n",
    "```python\n",
    "a = [\"cane\", \"gatto\"]\n",
    "def inserimento(lista):\n",
    "    # l = lista\n",
    "    # oppure:\n",
    "    l = []\n",
    "    for x in lista:\n",
    "        l.append(x)\n",
    "    # oppure con list comprehension\n",
    "    #l = [x for x in lista]\n",
    "    l.append(\"canarino\")\n",
    "    return l\n",
    "print(inserimento(a))\n",
    "print(a)\n",
    "```"
   ]
  },
  {
   "cell_type": "code",
   "execution_count": null,
   "metadata": {},
   "outputs": [],
   "source": []
  },
  {
   "cell_type": "markdown",
   "metadata": {},
   "source": [
    "## Cicli for"
   ]
  },
  {
   "cell_type": "code",
   "execution_count": 50,
   "metadata": {},
   "outputs": [],
   "source": [
    "a = [\"banana\", \"apple\", \"microsoft\"]"
   ]
  },
  {
   "cell_type": "code",
   "execution_count": 51,
   "metadata": {},
   "outputs": [
    {
     "name": "stdout",
     "output_type": "stream",
     "text": [
      "banana\n",
      "apple\n",
      "microsoft\n"
     ]
    }
   ],
   "source": [
    "for element in a: \n",
    "    print(element)"
   ]
  },
  {
   "cell_type": "code",
   "execution_count": 52,
   "metadata": {},
   "outputs": [
    {
     "name": "stdout",
     "output_type": "stream",
     "text": [
      "35\n"
     ]
    }
   ],
   "source": [
    "b = [20, 10, 5]\n",
    "total = 0\n",
    "for e in b:\n",
    "    total += e\n",
    "print(total)"
   ]
  },
  {
   "cell_type": "markdown",
   "metadata": {},
   "source": [
    "#### Esercizio\n",
    "Calcola la somma di tutti i multipli di 3 e 5 fino a 10 (compreso) usando la built-in-function <code>range</code> che prende come argomenti tre interi: start, stop e step. \n",
    "\n",
    "|Parametro   |Descrizione   |\n",
    "|---|---|\n",
    "|start   |opzionale, default è 0   |\n",
    "|stop   |obbligatorio   |\n",
    "|step   |opzionale, default è 1   |\n",
    "\n",
    "\n",
    "Un esempio del suo utilizzo segue.\n",
    "```python\n",
    "print(list(range(8)))\n",
    "print(list(range(1, 10)))\n",
    "```\n",
    "\n",
    "output:\n",
    "\n",
    "[0, 1, 2, 3, 4, 5, 6, 7]\n",
    "\n",
    "\n",
    "[1, 2, 3, 4, 5, 6, 7, 8, 9]\n",
    "\n",
    "\n",
    "Altro esempio:\n",
    "```python\n",
    "for i in range(0,3):\n",
    "    print(i)\n",
    "\n",
    "```\n",
    "\n",
    "output:\n",
    "\n",
    "0\n",
    "\n",
    "1\n",
    "\n",
    "2\n",
    "\n",
    "3\n"
   ]
  },
  {
   "cell_type": "code",
   "execution_count": null,
   "metadata": {},
   "outputs": [],
   "source": []
  },
  {
   "cell_type": "markdown",
   "metadata": {},
   "source": [
    "## Cicli while"
   ]
  },
  {
   "cell_type": "code",
   "execution_count": 55,
   "metadata": {},
   "outputs": [
    {
     "name": "stdout",
     "output_type": "stream",
     "text": [
      "10\n"
     ]
    }
   ],
   "source": [
    "# somma i numeri da 1 a 4 con ciclo for\n",
    "total = 0\n",
    "for i in range(1, 5):\n",
    "    total += i\n",
    "print(total)"
   ]
  },
  {
   "cell_type": "code",
   "execution_count": 56,
   "metadata": {},
   "outputs": [
    {
     "name": "stdout",
     "output_type": "stream",
     "text": [
      "10\n"
     ]
    }
   ],
   "source": [
    "# somma i numeri da 1 a 4 con ciclo while\n",
    "total2 = 0\n",
    "j = 1\n",
    "while j < 5:\n",
    "    total2 += j\n",
    "    j += 1\n",
    "print(total2)"
   ]
  },
  {
   "cell_type": "markdown",
   "metadata": {},
   "source": [
    "#### Esercizio\n",
    "Somma i numeri positivi sapendo che la lista [5, 4, 4, 3, 1, -2, -3, -5] è ordinata dal maggiore al minore. Usa il ciclo while."
   ]
  },
  {
   "cell_type": "code",
   "execution_count": null,
   "metadata": {},
   "outputs": [],
   "source": []
  },
  {
   "cell_type": "markdown",
   "metadata": {},
   "source": [
    "#### Esercizio\n",
    "Somma i numeri negativi sapendo che la lista [5, 4, 4, 3, 1, -2, -3, -5, -7] è ordinata dal maggiore al minore. Usa il ciclo while."
   ]
  },
  {
   "cell_type": "code",
   "execution_count": null,
   "metadata": {},
   "outputs": [],
   "source": []
  },
  {
   "cell_type": "markdown",
   "metadata": {},
   "source": [
    "## Dizionari e Tuple\n",
    "A differenza delle liste, i **dizionari** sono indicizzati con le chiavi. Le chiavi possono essere tipi numerici, stringhe e anche tuple. Le chiavi devono essere uniche. \n",
    "\n",
    "Tipi ***mutabili*** in Python: liste, dizionari, set e classi definite dall'utente. E' consentito l'accesso e la modifica.\n",
    "\n",
    "Tipi ***immutabili*** in Python: int, float, decimal, bool, string, tuple. E' consentito solo l'accesso.\n",
    "\n",
    "In un dizionario non possono essere usati oggetti mutabili come chiavi. Le liste non possono essere usate come chiavi. Possono invece essere usate come chiavi: tipi numerici, stringhe, tuple, ecc.\n",
    "\n",
    "\n",
    "\n",
    "Per iterare su chiave, valore di un dizionario si può usare il metodo <code> items() </code> in questo modo:\n",
    "\n",
    "```python\n",
    "for k, v in dizionario.items():\n",
    "    print(k, v) \n",
    "```  \n",
    "    \n",
    "\n",
    "Si può iterare solo sulle chiavi usando <code> keys() </code> o solo sui valori usando <code> values() </code>.\n",
    "\n",
    "\n",
    "Una **tupla** è un tipo di dato in Python che consiste in un certo numero di valori separati da virgola e contenuti in parentesi tonde. Per esempio: \n",
    "```python\n",
    "t = (12, 25, 'hello')\n",
    "```\n",
    "\n",
    "Per maggiori informazioni sulla differenza tra tuple e dizionari vedere il seguente [link](https://www.afternerd.com/blog/difference-between-list-tuple/)."
   ]
  },
  {
   "cell_type": "code",
   "execution_count": 64,
   "metadata": {},
   "outputs": [],
   "source": [
    "# dizionario vuoto\n",
    "d = {}\n",
    "# dizionario vuoto\n",
    "d2 = dict()\n",
    "# dizionario con due coppie chiave-valore\n",
    "d3 = {\"Andre\": 24, \"Anna\": 32}"
   ]
  },
  {
   "cell_type": "code",
   "execution_count": 99,
   "metadata": {},
   "outputs": [
    {
     "name": "stdout",
     "output_type": "stream",
     "text": [
      "{'Andre': 24, 'Anna': 32}\n",
      "Stampo il valore con chiave Anna:  32\n"
     ]
    }
   ],
   "source": [
    "# per aggiungere nuovi elementi \n",
    "dizionario = {}\n",
    "dizionario[\"Andre\"] = 24\n",
    "dizionario[\"Anna\"] = 32\n",
    "# per stamparae\n",
    "print(dizionario)\n",
    "print(\"Stampo il valore con chiave Anna: \", dizionario[\"Anna\"])"
   ]
  },
  {
   "cell_type": "code",
   "execution_count": 66,
   "metadata": {},
   "outputs": [
    {
     "name": "stdout",
     "output_type": "stream",
     "text": [
      "key:\n",
      "Andre\n",
      "value:\n",
      "24\n",
      " \n",
      "key:\n",
      "Anna\n",
      "value:\n",
      "32\n",
      " \n"
     ]
    }
   ],
   "source": [
    "# iterare su chiave e valore con un ciclo for per stampare\n",
    "for key, value in dizionario.items():\n",
    "    print(\"key:\")\n",
    "    print(key)\n",
    "    print(\"value:\")\n",
    "    print(value)\n",
    "    print(\" \")"
   ]
  },
  {
   "cell_type": "code",
   "execution_count": 67,
   "metadata": {},
   "outputs": [
    {
     "data": {
      "text/plain": [
       "12"
      ]
     },
     "execution_count": 67,
     "metadata": {},
     "output_type": "execute_result"
    }
   ],
   "source": [
    "# creo una tupla di tre elementi \n",
    "t = (12, 25, 'hello')\n",
    "# seleziono il primo valore della tupla\n",
    "t[0]"
   ]
  },
  {
   "cell_type": "code",
   "execution_count": 68,
   "metadata": {},
   "outputs": [],
   "source": [
    "# un dizionario di persone con chiave = id e valore = nome\n",
    "utenti = {0 : \"Andre\", 1 : \"Anna\", 2 : \"Alan\", \n",
    "          3 : \"Arthur\", 4 : \"Ada\" }\n",
    "\n",
    "# una lista di tuple di coppie di amici\n",
    "amici = [(\"Andre\", \"Anna\"), (\"Andre\", \"Alan\"),(\"Alan\", \"Arthur\"),\n",
    "         (\"Ada\", \"Alan\"),(\"Ada\", \"Arthur\")]\n"
   ]
  },
  {
   "cell_type": "code",
   "execution_count": 69,
   "metadata": {},
   "outputs": [
    {
     "data": {
      "text/plain": [
       "('Andre', 'Anna')"
      ]
     },
     "execution_count": 69,
     "metadata": {},
     "output_type": "execute_result"
    }
   ],
   "source": [
    "# in posizione zero della lista amici c'è la tupla (Andre, Anna)\n",
    "amici[0]"
   ]
  },
  {
   "cell_type": "code",
   "execution_count": 70,
   "metadata": {},
   "outputs": [
    {
     "data": {
      "text/plain": [
       "'Andre'"
      ]
     },
     "execution_count": 70,
     "metadata": {},
     "output_type": "execute_result"
    }
   ],
   "source": [
    "# in posizione zero del primo elemento della lista amici c'è Andre\n",
    "amici[0][0]"
   ]
  },
  {
   "cell_type": "markdown",
   "metadata": {},
   "source": [
    "##### Esercizio: Partendo da queste strutture dati:\n",
    "```python\n",
    "# un dizionario di persone con chiave = id e valore = nome\n",
    "utenti = {0 : \"Andre\", 1 : \"Anna\", 2 : \"Alan\", \n",
    "          3 : \"Arthur\", 4 : \"Ada\" }\n",
    "\n",
    "# una lista di tuple di coppie di amici. Nota dalle coppie si nota che Andre è amico di Anna e di Alan, quindi Andre ha due amici.\n",
    "amici = [(\"Andre\", \"Anna\"), (\"Andre\", \"Alan\"),(\"Alan\", \"Arthur\"),\n",
    "         (\"Ada\", \"Alan\"),(\"Ada\", \"Arthur\")]\n",
    "```\n",
    "* creare un dizionario con chiave il nome oppure l'id della persona e valore il numero di amici di ogni persona, \n",
    "* creare un dizionario con chiave il nome oppure l'id della persona e con valore la lista di amici di ogni persona. Stampare per ogni persona la lunghezza della lista di amici\n",
    "* Quale è il numero medio di amicizie? "
   ]
  },
  {
   "cell_type": "code",
   "execution_count": 71,
   "metadata": {},
   "outputs": [],
   "source": [
    "# Esercizio: creare un dizionario con il numero di amici di ogni \n",
    "# persona, con chiave il nome oppure l'id della persona\n",
    "\n"
   ]
  },
  {
   "cell_type": "code",
   "execution_count": 1,
   "metadata": {},
   "outputs": [],
   "source": [
    "# Esercizio: creare un dizionario con la lista di amici di ogni \n",
    "# persona, con chiave il nome oppure l'id della persona\n",
    "# Stampare per ogni persona la lunghezza della lista di amici \n",
    "\n"
   ]
  },
  {
   "cell_type": "code",
   "execution_count": 2,
   "metadata": {},
   "outputs": [],
   "source": [
    "# Quale è il numero medio di amicizie? Se si pensa al problema come\n",
    "# ad un grafo, la domanda è qual'è il numero totale di connessioni \n",
    "# diviso per il numero di persone?\n",
    "\n"
   ]
  },
  {
   "cell_type": "markdown",
   "metadata": {},
   "source": [
    "## Lambda\n",
    "In Python una Lambda è solo un altro modo di definire una funzione. Una lambda si definisce così: <code> lambda argomento: espressione </code> e può accettare zero o più argomenti ma un'unica espressione. \n",
    "In realtà le lambda sono utili solo quando vengono usate solo una volta nel programma, infatti sono anche dette funzioni anonime.\n",
    "\n",
    "Per esempio: si definisce <code> f = lambda x: x ** 2 </code> e si usa così: <code> f(5) </code>\n",
    "\n",
    "Le lambda sono spesso usate con la built-in function <code> filter() </code>. Questa funzione prende come argomenti una funzione e un oggetto iterabile, quale una lista. La funzione ritorna un tipo booleano e viene applicata su ogni elemento della lista mantenendo solo gli elementi per cui da True. \n",
    "\n",
    "\n",
    "\n",
    "Per esempio per filtrare solo gli elementi pari di una lista: \n",
    "```python\n",
    "def pari(x):\n",
    "    if x % 2 == 0:\n",
    "        return True\n",
    "    return False \n",
    "\n",
    "print(list(filter(pari, [1, 2, 3, 4])))\n",
    "```\n",
    "\n",
    "Riscriviamo il codice usando una lambda:\n",
    "```python\n",
    "print(list(filter(lambda x: x % 2 == 0, [1, 2, 3, 4])))\n",
    "```\n",
    "\n",
    "\n",
    "\n",
    "Per esempio per filtrare gli elementi diversi da due da una lista:\n",
    "```python\n",
    "lista = [1,2,3,4]\n",
    "# (lambda input: operazione, oggetto su cui operare)\n",
    "list(filter(lambda x: x != 2, lista))\n",
    "```\n",
    "output: [1, 3, 4]\n",
    "\n",
    "\n",
    "\n",
    "Un altro esempio: per filtrare gli elementi della lista che non sono in un'altra lista\n",
    "```python\n",
    "lista = [1,2,3,4,5,6]\n",
    "# lambda input: operazione, oggetto su cui operare\n",
    "list(filter(lambda x: x in [1,3,5,7], lista))\n",
    "```\n",
    "output: [1, 3, 5]\n",
    "\n",
    "\n",
    "\n",
    "\n",
    "Per approfondire può essere utile questo link\n",
    "* [5](https://www.afternerd.com/blog/python-lambdas/) Articolo sul Lambda functions\n",
    "\n",
    "Possiamo provare ad usare una lambda anche per ordinare una lista con la built-in function <code>sorted</code>:\n",
    "per esempio, <code>sorted([1,5,6,7,1,2])</code> ritorna [1, 1, 2, 5, 6, 7]\n",
    "\n",
    "La built-in function <code>sorted()</code> prende in input i tre argomenti: iterable, key(chiave su cui ordinare) e reverse(un booleano che decide ordine crescente e decrescente):\n",
    "\n",
    "| Parametro  | Descrizione   |\n",
    "|---|---|\n",
    "| iterable  | Required. The sequence to sort, list, dictionary, tuple etc.  |\n",
    "| key  | Optional. A Function to execute to decide the order. Default is None  |\n",
    "| reverse  | Optional. A Boolean. False will sort ascending, True will sort descending. Default is False  |"
   ]
  },
  {
   "cell_type": "markdown",
   "metadata": {},
   "source": [
    "#### Esempio: importante per il laboratorio sulla classificazione col Naive Bayes, perchè è importante?\n",
    "Moltiplicare tutti i numeri di una lista usando <code>reduce()</code> e una lambda.\n",
    "Per approfondire l'utilizzo di <code>reduce()</code> vedere questo link: [6](https://www.geeksforgeeks.org/reduce-in-python/)"
   ]
  },
  {
   "cell_type": "code",
   "execution_count": 74,
   "metadata": {},
   "outputs": [
    {
     "data": {
      "text/plain": [
       "24"
      ]
     },
     "execution_count": 74,
     "metadata": {},
     "output_type": "execute_result"
    }
   ],
   "source": [
    "from functools import reduce\n",
    "lista = [1, 2, 3, 4]\n",
    "reduce((lambda x, y: x*y), lista)"
   ]
  },
  {
   "cell_type": "markdown",
   "metadata": {},
   "source": [
    "##### Esercizio\n",
    "```python\n",
    "# un dizionario di persone con chiave = id e valore = nome\n",
    "utenti = {0 : \"Andre\", 1 : \"Anna\", 2 : \"Alan\", \n",
    "          3 : \"Arthur\", 4 : \"Ada\" }\n",
    "\n",
    "# una lista di tuple\n",
    "amici = [(\"Andre\", \"Anna\"), (\"Andre\", \"Alan\"),(\"Alan\", \"Arthur\"),\n",
    "         (\"Ada\", \"Alan\"),(\"Ada\", \"Arthur\")]\n",
    "```\n",
    "(0) **Chi ha più amici?** Stampare in ordine di numero di amici il dizionario con chiave i nomi degli utenti e valore il numero di amici degli utenti. Usare la built-in function <code>sorted</code>\n",
    "\n",
    "(1) **Nome, età e lista amici.** Partendo da queste strutture dati: creare una lista di tuple e in ogni tupla inserire: nome, età e lista amici. Stampare le tuple ordinate per età decrescente usando la built-in function <code>sorted()</code> e una lambda. Per generare le età casualmente si può importare: <code>from random import randrange</code>\n",
    "\n",
    "(2) **Amici che potresti conoscere.** Trovare per ogni persona la lista e il numero di persone che sono amici di amici: quindi per Andre: trovare gli amici delle persone nella lista amici che non sono Andre e non sono nella lista amici di Andre."
   ]
  },
  {
   "cell_type": "code",
   "execution_count": 75,
   "metadata": {},
   "outputs": [
    {
     "name": "stdout",
     "output_type": "stream",
     "text": [
      "Alan   3\n",
      "Andre   2\n",
      "Arthur   2\n",
      "Ada   2\n",
      "Anna   1\n"
     ]
    }
   ],
   "source": [
    "# (0) usare la built-in function sorted\n"
   ]
  },
  {
   "cell_type": "code",
   "execution_count": 3,
   "metadata": {},
   "outputs": [],
   "source": [
    "# (1) usare la built-in function sorted e una lambda\n"
   ]
  },
  {
   "cell_type": "code",
   "execution_count": 4,
   "metadata": {},
   "outputs": [],
   "source": [
    "# (2)\n",
    "# Potete provare sia usando cicli for che usando filter()\n"
   ]
  },
  {
   "cell_type": "markdown",
   "metadata": {},
   "source": [
    "## Set \n",
    "In python un set è una collezione di elementi non ordinati e non duplicati. Questi oggetti supportano operazioni matematiche quali unioni, intersezioni, differenze. \n",
    "\n",
    "Si creano in questi modi:\n",
    "```python\n",
    "insieme = {'mela', 'mela', 'pera', 'arancia'}\n",
    "# oppure con la built-in function set()\n",
    "lista_frutta = ['mela', 'mela', 'pera', 'arancia']\n",
    "insieme2 = set(lista_frutta)\n",
    "```\n",
    "\n",
    "I set supportano le principali operazioni dell'insiemistica, quali:\n",
    "* **or o unione** utilizzando l'operatore \"|\"\n",
    "* **and o intersezione** utilizzando l'operatore \"&\"\n",
    "* **differenza** utilizzando l'operatore \"-\"\n",
    "* **xor** utilizzando l'operatore \"^\" per trovare gli elementi che appartengono a uno dei due insiemi ma non a entrambi (elementi non in comune).\n",
    "\n",
    "Altro codice utile, **importante per il laboratorio sul classificatore Naive Bayes**:\n",
    "```python\n",
    "set(sum([[1,2,5],[2,5,8]],[]))\n",
    "max([[1,2],[3]])\n",
    "max([[1,2],[3]], key=len)\n",
    "len(max([[1,2],[3]], key=len))\n",
    "```"
   ]
  },
  {
   "cell_type": "code",
   "execution_count": 1,
   "metadata": {},
   "outputs": [
    {
     "name": "stdout",
     "output_type": "stream",
     "text": [
      "[1, 2, 3, 3, 5, 5]\n",
      "{1, 2, 3, 5}\n"
     ]
    }
   ],
   "source": [
    "lista_numeri = [1, 2, 3, 3, 5, 5]\n",
    "insieme_numeri = set(lista_numeri)\n",
    "print(lista_numeri)\n",
    "print(insieme_numeri)"
   ]
  },
  {
   "cell_type": "code",
   "execution_count": 78,
   "metadata": {},
   "outputs": [],
   "source": [
    "frutti = {'mela', 'mela', 'pera', 'arancia', 'pomodoro'}\n",
    "verdure = {'pomodoro', 'carota', 'broccolo'}"
   ]
  },
  {
   "cell_type": "code",
   "execution_count": 79,
   "metadata": {},
   "outputs": [
    {
     "data": {
      "text/plain": [
       "{'arancia', 'broccolo', 'carota', 'mela', 'pera', 'pomodoro'}"
      ]
     },
     "execution_count": 79,
     "metadata": {},
     "output_type": "execute_result"
    }
   ],
   "source": [
    "vegetali = (frutti | verdure)\n",
    "# oppure\n",
    "frutti.union(verdure)"
   ]
  },
  {
   "cell_type": "code",
   "execution_count": 80,
   "metadata": {},
   "outputs": [
    {
     "data": {
      "text/plain": [
       "{'pomodoro'}"
      ]
     },
     "execution_count": 80,
     "metadata": {},
     "output_type": "execute_result"
    }
   ],
   "source": [
    "intersezione = (frutti & verdure)\n",
    "# oppure\n",
    "frutti.intersection(verdure)"
   ]
  },
  {
   "cell_type": "code",
   "execution_count": 81,
   "metadata": {},
   "outputs": [
    {
     "data": {
      "text/plain": [
       "{'arancia', 'mela', 'pera'}"
      ]
     },
     "execution_count": 81,
     "metadata": {},
     "output_type": "execute_result"
    }
   ],
   "source": [
    "differenza = (frutti - verdure)\n",
    "# oppure\n",
    "frutti.difference(verdure)"
   ]
  },
  {
   "cell_type": "code",
   "execution_count": 82,
   "metadata": {},
   "outputs": [
    {
     "data": {
      "text/plain": [
       "{'arancia', 'broccolo', 'carota', 'mela', 'pera'}"
      ]
     },
     "execution_count": 82,
     "metadata": {},
     "output_type": "execute_result"
    }
   ],
   "source": [
    "# ritorna unione senza intersezione\n",
    "non_comune = (frutti ^ verdure)\n",
    "frutti.symmetric_difference(verdure)"
   ]
  },
  {
   "cell_type": "code",
   "execution_count": 83,
   "metadata": {},
   "outputs": [
    {
     "data": {
      "text/plain": [
       "{'broccolo', 'carota', 'mela', 'pera'}"
      ]
     },
     "execution_count": 83,
     "metadata": {},
     "output_type": "execute_result"
    }
   ],
   "source": [
    "non_comune -  set(['arancia'])"
   ]
  },
  {
   "cell_type": "markdown",
   "metadata": {},
   "source": [
    "##### Esercizio\n",
    "```python\n",
    "# un dizionario di persone con chiave = id e valore = nome\n",
    "utenti = {0 : \"Andre\", 1 : \"Anna\", 2 : \"Alan\", \n",
    "          3 : \"Arthur\", 4 : \"Ada\" }\n",
    "\n",
    "# una lista di tuple\n",
    "amici = [(\"Andre\", \"Anna\"), (\"Andre\", \"Alan\"),(\"Alan\", \"Arthur\"),\n",
    "         (\"Ada\", \"Alan\"),(\"Ada\", \"Arthur\")]\n",
    "```\n",
    "\n",
    "**Amici che potresti conoscere.** Trovare per ogni persona il set e il numero di persone che sono amici di amici: quindi per Andre: trovare gli amici delle persone nella lista amici che non sono Andre e non sono nella lista amici di Andre."
   ]
  },
  {
   "cell_type": "code",
   "execution_count": 84,
   "metadata": {},
   "outputs": [],
   "source": [
    "# (2) Amici che potresti conoscere: usiamo i set\n"
   ]
  },
  {
   "cell_type": "markdown",
   "metadata": {},
   "source": [
    "## Counter\n",
    "Un Counter in python è una sottoclasse di dizionario usata per contare oggetti immutabili(stringhe, numeri, tuple ma non liste).\n",
    "\n",
    "Come si utilizza?\n",
    "```python\n",
    "from collections import Counter\n",
    "Counter([\"mela\", \"mela\", \"pera\"])\n",
    "```\n",
    "output: Counter({'mela': 2, 'pera': 1})\n",
    "```python\n",
    "lista = [\"mela\", \"mela\", \"pera\"]\n",
    "Counter(lista).most_common(2)\n",
    "```\n",
    "output: [('mela', 2), ('pera', 1)]"
   ]
  },
  {
   "cell_type": "markdown",
   "metadata": {},
   "source": [
    "#### Esercizio: \n",
    "```python\n",
    "# un dizionario di persone con chiave = id e valore = nome\n",
    "utenti = {0 : \"Andre\", 1 : \"Anna\", 2 : \"Alan\", \n",
    "          3 : \"Arthur\", 4 : \"Ada\" }\n",
    "\n",
    "# una lista di tuple\n",
    "amici = [(\"Andre\", \"Anna\"), (\"Andre\", \"Alan\"),(\"Alan\", \"Arthur\"),\n",
    "         (\"Ada\", \"Alan\"),(\"Ada\", \"Arthur\")]\n",
    "```\n",
    "**Chi ha più amici** Stampare in ordine di numero di amici il dizionario, con chiave i nomi degli utenti e valore il numero di amici degli utenti. Usa la classe Counter"
   ]
  },
  {
   "cell_type": "code",
   "execution_count": null,
   "metadata": {},
   "outputs": [],
   "source": [
    "from collections import Counter\n"
   ]
  }
 ],
 "metadata": {
  "kernelspec": {
   "display_name": "Python 3",
   "language": "python",
   "name": "python3"
  },
  "language_info": {
   "codemirror_mode": {
    "name": "ipython",
    "version": 3
   },
   "file_extension": ".py",
   "mimetype": "text/x-python",
   "name": "python",
   "nbconvert_exporter": "python",
   "pygments_lexer": "ipython3",
   "version": "3.7.5"
  }
 },
 "nbformat": 4,
 "nbformat_minor": 2
}
